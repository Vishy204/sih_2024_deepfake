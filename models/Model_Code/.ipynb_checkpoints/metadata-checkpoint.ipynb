{
 "cells": [
  {
   "cell_type": "code",
   "execution_count": null,
   "id": "f0532a55-2328-4468-8cab-571abedc62e5",
   "metadata": {},
   "outputs": [],
   "source": [
    "import cv2\n",
    "import numpy as np\n",
    "from scipy.fftpack import dct\n",
    "from skimage.feature import local_binary_pattern\n",
    "import os\n",
    "import json\n",
    "import pymediainfo\n",
    "from pymediainfo import MediaInfo\n",
    "import subprocess\n",
    "\n",
    "def analyze_metadata(video_path):\n",
    "    \n",
    "    \"\"\"Extract and display basic metadata from a video file using OpenCV.\"\"\"\n",
    "    try:\n",
    "        # Open the video file\n",
    "        cap = cv2.VideoCapture(video_path)\n",
    "        \n",
    "        # Check if the video opened successfully\n",
    "        if not cap.isOpened():\n",
    "            return \"Error opening video file.\"\n",
    "        \n",
    "        # Get video metadata\n",
    "        frame_count = cap.get(cv2.CAP_PROP_FRAME_COUNT)\n",
    "        fps = cap.get(cv2.CAP_PROP_FPS)\n",
    "        width = cap.get(cv2.CAP_PROP_FRAME_WIDTH)\n",
    "        height = cap.get(cv2.CAP_PROP_FRAME_HEIGHT)\n",
    "        codec = int(cap.get(cv2.CAP_PROP_FOURCC))\n",
    "\n",
    "        # Calculate duration\n",
    "        duration = frame_count / fps\n",
    "        \n",
    "        # Convert codec to a readable format\n",
    "        codec_str = ''.join([chr((codec >> 8 * i) & 0xFF) for i in range(4)])\n",
    "\n",
    "        cap.release()\n",
    "        \n",
    "        return (f\"Video Duration: {duration:.2f} seconds\\n\"\n",
    "                f\"Video Resolution: {int(width)}x{int(height)}\\n\"\n",
    "                f\"Video Codec: {codec_str}\")\n",
    "\n",
    "    except Exception as e:\n",
    "        return f\"Error analyzing metadata: {str(e)}\"\n",
    "\n",
    "def video_deepfake_detector(video_path):\n",
    "    \"\"\"Run comprehensive checks to detect potential video deepfakes.\"\"\"\n",
    "    results = []\n",
    "\n",
    "    results.append(analyze_metadata(video_path))\n",
    "\n",
    "    return \"\\n\".join(results)"
   ]
  }
 ],
 "metadata": {
  "kernelspec": {
   "display_name": "Python 3 (ipykernel)",
   "language": "python",
   "name": "python3"
  },
  "language_info": {
   "codemirror_mode": {
    "name": "ipython",
    "version": 3
   },
   "file_extension": ".py",
   "mimetype": "text/x-python",
   "name": "python",
   "nbconvert_exporter": "python",
   "pygments_lexer": "ipython3",
   "version": "3.11.5"
  }
 },
 "nbformat": 4,
 "nbformat_minor": 5
}
