{
 "cells": [
  {
   "cell_type": "code",
   "execution_count": null,
   "id": "e4dd0e11-805a-4374-ae09-ab22156741c4",
   "metadata": {},
   "outputs": [],
   "source": [
    "import wave\n",
    "import contextlib\n",
    "\n",
    "def analyze_wav_metadata(audio_path):\n",
    "    \"\"\"Extract and display basic metadata from a .wav audio file.\"\"\"\n",
    "    try:\n",
    "        with contextlib.closing(wave.open(audio_path, 'r')) as wav_file:\n",
    "            # Extract basic metadata\n",
    "            params = wav_file.getparams()\n",
    "            duration = params.nframes / params.framerate\n",
    "            metadata = {\n",
    "                'Channels': params.nchannels,\n",
    "                'Sample Width': params.sampwidth,\n",
    "                'Frame Rate': params.framerate,\n",
    "                'Number of Frames': params.nframes,\n",
    "                'Duration (seconds)': duration\n",
    "            }\n",
    "\n",
    "        metadata_str = \"\\n\".join(f\"{key}: {value}\" for key, value in metadata.items())\n",
    "        return f\"WAV Audio Metadata:\\n{metadata_str}\"\n",
    "\n",
    "    except Exception as e:\n",
    "        return f\"Error analyzing metadata: {str(e)}\"\n"
   ]
  }
 ],
 "metadata": {
  "kernelspec": {
   "display_name": "Python 3 (ipykernel)",
   "language": "python",
   "name": "python3"
  },
  "language_info": {
   "codemirror_mode": {
    "name": "ipython",
    "version": 3
   },
   "file_extension": ".py",
   "mimetype": "text/x-python",
   "name": "python",
   "nbconvert_exporter": "python",
   "pygments_lexer": "ipython3",
   "version": "3.11.5"
  }
 },
 "nbformat": 4,
 "nbformat_minor": 5
}
